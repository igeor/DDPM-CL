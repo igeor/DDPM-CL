{
 "cells": [
  {
   "cell_type": "code",
   "execution_count": 1,
   "metadata": {},
   "outputs": [],
   "source": [
    "import torch\n",
    "import numpy as np \n",
    "import matplotlib.pyplot as plt\n",
    "from torchvision.io import read_image\n",
    "from torchvision import transforms\n",
    "from tqdm.notebook import tqdm\n",
    "from dataclasses import dataclass\n",
    "from datasets import load_dataset\n",
    "from diffusers import UNet2DModel"
   ]
  },
  {
   "cell_type": "code",
   "execution_count": 2,
   "metadata": {},
   "outputs": [],
   "source": [
    "@dataclass\n",
    "class TrainingConfig:\n",
    "    device = \"cuda\"\n",
    "    dataset_name = \"mnist\"\n",
    "    labels = [1, 2]\n",
    "    image_size = 32  # the generated image resolution\n",
    "    train_batch_size = 128\n",
    "    eval_batch_size = 128  # how many images to sample during evaluation\n",
    "    num_epochs = 500\n",
    "    gradient_accumulation_steps = 1\n",
    "    learning_rate = 1e-4\n",
    "    lr_warmup_steps = 500\n",
    "    save_image_epochs = 10\n",
    "    save_model_epochs = 10\n",
    "    mixed_precision = \"fp16\"  # `no` for float32, `fp16` for automatic mixed precision\n",
    "    output_dir = \"/experiments/mnist1n2s-ep500\"  # the model name locally and on the HF Hub\n",
    "\n",
    "    push_to_hub = False  # whether to upload the saved model to the HF Hub\n",
    "    hub_private_repo = False\n",
    "    overwrite_output_dir = True  # overwrite the old model when re-running the notebook\n",
    "    seed = 0\n",
    "\n",
    "config = TrainingConfig()"
   ]
  },
  {
   "cell_type": "code",
   "execution_count": 3,
   "metadata": {},
   "outputs": [],
   "source": [
    "preprocess = transforms.Compose([\n",
    "    transforms.Resize((config.image_size, config.image_size)),\n",
    "    transforms.ToTensor()\n",
    "])\n",
    "\n",
    "def transform(examples):\n",
    "    images = [preprocess(image.convert(\"RGB\")) for image in examples[\"image\"]]\n",
    "    return {\"image\": images, \"label\": examples[\"label\"]}\n",
    "\n",
    "def filter_dataset(dataset, labels):\n",
    "    return dataset.filter(lambda example: example[\"label\"] in labels)"
   ]
  },
  {
   "cell_type": "code",
   "execution_count": 4,
   "metadata": {},
   "outputs": [
    {
     "name": "stdout",
     "output_type": "stream",
     "text": [
      "Dataset({\n",
      "    features: ['image', 'label'],\n",
      "    num_rows: 2167\n",
      "})\n"
     ]
    }
   ],
   "source": [
    "test_dataset = load_dataset(config.dataset_name, split=\"test\")\n",
    "test_dataset.set_transform(transform)\n",
    "test_dataset = filter_dataset(test_dataset, config.labels)\n",
    "print(test_dataset)\n",
    "\n",
    "test_dataloader = torch.utils.data.DataLoader(\n",
    "    test_dataset, batch_size=config.eval_batch_size, shuffle=False)"
   ]
  },
  {
   "cell_type": "code",
   "execution_count": 5,
   "metadata": {},
   "outputs": [],
   "source": [
    "model = UNet2DModel(\n",
    "    sample_size=config.image_size,  # the target image resolution\n",
    "    in_channels=3,  # the number of input channels, 3 for RGB images\n",
    "    out_channels=3,  # the number of output channels\n",
    "    layers_per_block=2,  # how many ResNet layers to use per UNet block\n",
    "    block_out_channels=(128, 128, 256, 256, 512, 512),  # the number of output channels for each UNet block\n",
    "    down_block_types=(\n",
    "        \"DownBlock2D\",  # a regular ResNet downsampling block\n",
    "        \"DownBlock2D\",\n",
    "        \"DownBlock2D\",\n",
    "        \"DownBlock2D\",\n",
    "        \"AttnDownBlock2D\",  # a ResNet downsampling block with spatial self-attention\n",
    "        \"DownBlock2D\",\n",
    "    ),\n",
    "    up_block_types=(\n",
    "        \"UpBlock2D\",  # a regular ResNet upsampling block\n",
    "        \"AttnUpBlock2D\",  # a ResNet upsampling block with spatial self-attention\n",
    "        \"UpBlock2D\",\n",
    "        \"UpBlock2D\",\n",
    "        \"UpBlock2D\",\n",
    "        \"UpBlock2D\",\n",
    "    ),\n",
    ")\n",
    "\n",
    "# Load pretrained model\n",
    "# model = UNet2DModel.from_pretrained(f'./{config.output_dir}', subfolder=\"unet\", use_safetensors=True)\n",
    "model = model.to(config.device)"
   ]
  },
  {
   "cell_type": "code",
   "execution_count": null,
   "metadata": {},
   "outputs": [],
   "source": [
    "# Load all real images of test_dataloader into a tensor\n",
    "y_real = []\n",
    "for batch in test_dataloader:\n",
    "    y_real += [ batch[\"image\"] ]\n",
    "y_real = torch.cat(y_real, dim=0)\n",
    "# Convert to uint8 for FID calculation\n",
    "y_real = (y_real * 255).to(torch.uint8)\n",
    "\n",
    "y_random = torch.randint(0, 256, size=y_real.shape, dtype=torch.uint8)\n",
    "\n",
    "# Load all fake images from directory into a tensor\n",
    "fake_images_dir = f\"./{config.output_dir}/fake_images\"\n",
    "# iterate over the images in the directory\n",
    "y_fake = []\n",
    "for i in range(y_real.shape[0]):\n",
    "    y_fake += [ read_image(f'{fake_images_dir}/{i}.png') ]\n",
    "\n",
    "y_fake = torch.stack(y_fake)\n",
    "\n",
    "print(f'Number of real images: {y_real.shape[0]}')\n",
    "print(f'Number of fake images: {y_fake.shape[0]}')"
   ]
  },
  {
   "cell_type": "markdown",
   "metadata": {},
   "source": [
    "### Frechet Inception Distance (FID)"
   ]
  },
  {
   "cell_type": "code",
   "execution_count": null,
   "metadata": {},
   "outputs": [],
   "source": [
    "_ = torch.manual_seed(123)\n",
    "\n",
    "from torchmetrics.image.fid import FrechetInceptionDistance\n",
    "fid = FrechetInceptionDistance(feature=2048)\n",
    "\n",
    "# iterate over batch of images\n",
    "bs = config.eval_batch_size\n",
    "fid_scores = []\n",
    "for b_idx in tqdm(range(0, y_real.shape[0], bs)):\n",
    "    fid.update(y_real[b_idx : b_idx + bs], real=True)\n",
    "    fid.update(y_fake[b_idx : b_idx + bs], real=False)\n",
    "\n",
    "print(fid.compute())\n",
    "fid.reset()"
   ]
  },
  {
   "cell_type": "markdown",
   "metadata": {},
   "source": [
    "### Entropy (Variance)"
   ]
  },
  {
   "cell_type": "code",
   "execution_count": null,
   "metadata": {},
   "outputs": [],
   "source": [
    "from torchvision import models\n",
    "from torch import nn \n",
    "\n",
    "# Load pretrained model\n",
    "model = models.resnet50(pretrained=True)\n",
    "# Change the last layer to output 10 classes\n",
    "model.conv1 = nn.Conv2d(3, 64, kernel_size=(7, 7), stride=(2, 2), padding=(3, 3), bias=False)\n",
    "model.fc = nn.Linear(2048, 10, bias=True)\n",
    "\n",
    "# Load the mnist pre-trained model\n",
    "model.load_state_dict(torch.load('mnist-classifier.pth'))\n",
    "\n",
    "# Load the model to device\n",
    "model = model.to(config.device)"
   ]
  },
  {
   "cell_type": "code",
   "execution_count": null,
   "metadata": {},
   "outputs": [],
   "source": [
    "from utils import entropy as H\n",
    "\n",
    "# Iterate over 64 batch images in y_fake \n",
    "y_fake_labels = []\n",
    "temp = []\n",
    "for idx in range(0, y_fake.shape[0], config.eval_batch_size):\n",
    "    # Get the batch of fake images\n",
    "    fake_images = y_fake[idx : idx + config.eval_batch_size]\n",
    "    # Send the batch of fake images to device\n",
    "    fake_images = fake_images.to(config.device)\n",
    "    # Normalize the images\n",
    "    fake_images = fake_images / 255\n",
    "    # Get the model prediction\n",
    "    labels = model(fake_images)\n",
    "    # Append the prediction to the list\n",
    "    y_fake_labels += [ torch.argmax(labels, dim=1) ]\n",
    "\n",
    "# Concatenate the list of predictions into a tensor\n",
    "y_fake_labels = torch.cat(y_fake_labels, dim=0)\n",
    "\n",
    "# Find the proportion of distinct labels in y_fake_labels with torch\n",
    "_, counts = torch.unique(y_fake_labels, return_counts=True)\n",
    "proportion = counts / torch.sum(counts)\n",
    "\n",
    "# Calculate the entropy of the proportion with torch\n",
    "entropy = torch.sum(-proportion * torch.log2(proportion))\n",
    "entropy"
   ]
  }
 ],
 "metadata": {
  "kernelspec": {
   "display_name": "dmenv",
   "language": "python",
   "name": "python3"
  },
  "language_info": {
   "codemirror_mode": {
    "name": "ipython",
    "version": 3
   },
   "file_extension": ".py",
   "mimetype": "text/x-python",
   "name": "python",
   "nbconvert_exporter": "python",
   "pygments_lexer": "ipython3",
   "version": "3.10.12"
  }
 },
 "nbformat": 4,
 "nbformat_minor": 2
}
