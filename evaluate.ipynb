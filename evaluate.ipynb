{
 "cells": [
  {
   "cell_type": "code",
   "execution_count": 9,
   "metadata": {},
   "outputs": [],
   "source": [
    "import os\n",
    "import torch\n",
    "import numpy as np \n",
    "import matplotlib.pyplot as plt\n",
    "from torchvision.io import read_image\n",
    "from torchvision import transforms\n",
    "from tqdm.notebook import tqdm\n",
    "from dataclasses import dataclass\n",
    "from datasets import load_dataset\n",
    "from diffusers import UNet2DModel"
   ]
  },
  {
   "cell_type": "code",
   "execution_count": 2,
   "metadata": {},
   "outputs": [],
   "source": [
    "from train_config import TrainingConfig\n",
    "\n",
    "config = TrainingConfig()"
   ]
  },
  {
   "cell_type": "code",
   "execution_count": 3,
   "metadata": {},
   "outputs": [],
   "source": [
    "preprocess = transforms.Compose([\n",
    "    transforms.Resize((config.image_size, config.image_size)),\n",
    "    transforms.ToTensor()\n",
    "])\n",
    "\n",
    "def transform(examples):\n",
    "    images = [preprocess(image.convert(\"RGB\")) for image in examples[\"image\"]]\n",
    "    return {\"image\": images, \"label\": examples[\"label\"]}\n",
    "\n",
    "def filter_dataset(dataset, labels):\n",
    "    return dataset.filter(lambda example: example[\"label\"] in labels)"
   ]
  },
  {
   "cell_type": "code",
   "execution_count": 4,
   "metadata": {},
   "outputs": [],
   "source": [
    "test_dataset = load_dataset(config.dataset_name, split=\"test\")\n",
    "test_dataset.set_transform(transform)\n",
    "\n",
    "if config.labels is not None:\n",
    "    test_dataset = filter_dataset(test_dataset, config.labels)\n",
    "    print(test_dataset)\n",
    "\n",
    "test_dataloader = torch.utils.data.DataLoader(\n",
    "    test_dataset, batch_size=config.eval_batch_size, shuffle=False)"
   ]
  },
  {
   "cell_type": "code",
   "execution_count": 5,
   "metadata": {},
   "outputs": [],
   "source": [
    "model = UNet2DModel(\n",
    "    sample_size=config.image_size,  # the target image resolution\n",
    "    in_channels=3,  # the number of input channels, 3 for RGB images\n",
    "    out_channels=3,  # the number of output channels\n",
    "    layers_per_block=2,  # how many ResNet layers to use per UNet block\n",
    "    block_out_channels=(128, 128, 256, 256, 512, 512),  # the number of output channels for each UNet block\n",
    "    down_block_types=(\n",
    "        \"DownBlock2D\",  # a regular ResNet downsampling block\n",
    "        \"DownBlock2D\",\n",
    "        \"DownBlock2D\",\n",
    "        \"DownBlock2D\",\n",
    "        \"AttnDownBlock2D\",  # a ResNet downsampling block with spatial self-attention\n",
    "        \"DownBlock2D\",\n",
    "    ),\n",
    "    up_block_types=(\n",
    "        \"UpBlock2D\",  # a regular ResNet upsampling block\n",
    "        \"AttnUpBlock2D\",  # a ResNet upsampling block with spatial self-attention\n",
    "        \"UpBlock2D\",\n",
    "        \"UpBlock2D\",\n",
    "        \"UpBlock2D\",\n",
    "        \"UpBlock2D\",\n",
    "    ),\n",
    ")\n",
    "\n",
    "# Load pretrained model\n",
    "model = UNet2DModel.from_pretrained(f'./{config.output_dir}', subfolder=\"unet\", use_safetensors=True)\n",
    "model = model.to(config.device)"
   ]
  },
  {
   "cell_type": "code",
   "execution_count": 15,
   "metadata": {},
   "outputs": [
    {
     "name": "stdout",
     "output_type": "stream",
     "text": [
      "Number of real images: 9728\n",
      "Number of fake images: 9728\n"
     ]
    }
   ],
   "source": [
    "# Load all fake images from directory into a tensor\n",
    "fake_images_dir = f\"./{config.output_dir}/fake_images\"\n",
    "# Count the number of images in directory\n",
    "n_fake_images = len(os.listdir(fake_images_dir))\n",
    "# iterate over the images in the directory\n",
    "y_fake = []\n",
    "for i in range(n_fake_images):\n",
    "    y_fake += [ read_image(f'{fake_images_dir}/{i}.png') ]\n",
    "\n",
    "# Load all real images of test_dataloader into a tensor\n",
    "y_real = []\n",
    "for batch in test_dataloader:\n",
    "    y_real += [ batch[\"image\"] ]\n",
    "# Concatenate all batches into one tensor\n",
    "y_real = torch.cat(y_real, dim=0)\n",
    "# Only take the same number of real images as fake images\n",
    "y_real = y_real[:n_fake_images]\n",
    "# Convert to uint8 for FID calculation\n",
    "y_real = (y_real * 255).to(torch.uint8)\n",
    "\n",
    "y_random = torch.randint(0, 256, size=y_real.shape, dtype=torch.uint8)\n",
    "\n",
    "y_fake = torch.stack(y_fake)\n",
    "\n",
    "print(f'Number of real images: {y_real.shape[0]}')\n",
    "print(f'Number of fake images: {y_fake.shape[0]}')"
   ]
  },
  {
   "cell_type": "markdown",
   "metadata": {},
   "source": [
    "### Frechet Inception Distance (FID)"
   ]
  },
  {
   "cell_type": "code",
   "execution_count": 25,
   "metadata": {},
   "outputs": [],
   "source": [
    "# send y_fake to float\n",
    "y_fake = y_fake.to(torch.uint8)\n",
    "y_real = y_real.to(torch.uint8)"
   ]
  },
  {
   "cell_type": "code",
   "execution_count": 26,
   "metadata": {},
   "outputs": [
    {
     "data": {
      "application/vnd.jupyter.widget-view+json": {
       "model_id": "54f59507110f46ba99fcf1e4267b45a6",
       "version_major": 2,
       "version_minor": 0
      },
      "text/plain": [
       "  0%|          | 0/76 [00:00<?, ?it/s]"
      ]
     },
     "metadata": {},
     "output_type": "display_data"
    }
   ],
   "source": [
    "_ = torch.manual_seed(123)\n",
    "\n",
    "from torchmetrics.image.fid import FrechetInceptionDistance\n",
    "fid = FrechetInceptionDistance(feature=2048)\n",
    "\n",
    "# iterate over batch of images\n",
    "bs = config.eval_batch_size\n",
    "fid_scores = []\n",
    "for b_idx in tqdm(range(0, y_real.shape[0], bs)):\n",
    "    fid.update(y_real[b_idx : b_idx + bs], real=True)\n",
    "    fid.update(y_fake[b_idx : b_idx + bs], real=False)\n",
    "\n",
    "print(fid.compute())\n",
    "fid.reset()"
   ]
  }
 ],
 "metadata": {
  "kernelspec": {
   "display_name": "dmenv",
   "language": "python",
   "name": "python3"
  },
  "language_info": {
   "codemirror_mode": {
    "name": "ipython",
    "version": 3
   },
   "file_extension": ".py",
   "mimetype": "text/x-python",
   "name": "python",
   "nbconvert_exporter": "python",
   "pygments_lexer": "ipython3",
   "version": "3.10.12"
  }
 },
 "nbformat": 4,
 "nbformat_minor": 2
}
